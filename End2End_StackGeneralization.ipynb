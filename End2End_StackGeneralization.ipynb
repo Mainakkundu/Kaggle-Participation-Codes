{
  "cells": [
    {
      "metadata": {
        "_cell_guid": "288e711f-b3ff-422e-a480-f4d7d15ddf03",
        "_uuid": "d0673b9bd61398c6fe3d238710fd4ad725db7df9",
        "trusted": false,
        "collapsed": true
      },
      "cell_type": "code",
      "source": "# This Python 3 environment comes with many helpful analytics libraries installed\n# It is defined by the kaggle/python docker image: https://github.com/kaggle/docker-python\n# For example, here's several helpful packages to load in \n\nimport numpy as np # linear algebra\nimport pandas as pd # data processing, CSV file I/O (e.g. pd.read_csv)\nfrom sklearn.preprocessing import StandardScaler\nfrom sklearn.metrics import roc_auc_score\n\nfrom sklearn.model_selection import train_test_split\nfrom sklearn.ensemble import RandomForestClassifier, ExtraTreesClassifier\nfrom sklearn.naive_bayes import BernoulliNB\nfrom sklearn.linear_model import LogisticRegression\nfrom sklearn.model_selection import StratifiedKFold\n\nimport xgboost as xgb\nimport lightgbm as lgb\nimport time\n\npd.set_option('display.max_columns', 500)\npd.set_option('display.max_colwidth', 500)\npd.set_option('display.max_rows', 1000)\n\n# Input data files are available in the \"../input/\" directory.\n# For example, running this (by clicking run or pressing Shift+Enter) will list the files in the input directory\n\nfrom subprocess import check_output\nprint(check_output([\"ls\", \"../input\"]).decode(\"utf8\"))\n\n# Any results you write to the current directory are saved as output.",
      "execution_count": null,
      "outputs": []
    },
    {
      "metadata": {
        "_uuid": "b2fef15761bd13a25421cd4fad3c3858135e3433"
      },
      "cell_type": "markdown",
      "source": ""
    },
    {
      "metadata": {
        "_uuid": "2e929b1007d3a2d565f80126706312281f3132c8"
      },
      "cell_type": "markdown",
      "source": "## Note to others\n\nThis is the second of a series of notebooks that I am working on for educational purpose, to demonstrate some run-of-the mill techniques we use on Kaggle for a student audience.\n\nSo when most folks here are competiting to overfit the LB, we are doing some small effort to fill our students with handy knowledge and the virtue of solid CV. \n\nAnyhow, since our students are also competing as teams in this competition, we decided to use the kernel facility as a way to share knowledge. Nevertheless, all comments are welcome, and let's all enjoy the last days of this competition!"
    },
    {
      "metadata": {
        "_uuid": "f2a274797f95c62067d672accffec19191c43555"
      },
      "cell_type": "markdown",
      "source": "# Porto Seguo - End-to-end Ensemble\n\nIn this competition we are tasked with making predictive models that can predict if a given driver will make insurance claim. In a [\"previous kernel\"](https://www.kaggle.com/yifanxie/porto-seguro-tutorial-simple-e2e-pipeline) we have breifly explored the data, did some useful categorical feature encoding, and presented a simple model building pipeline.\n\nIn this kernel, we are going to progress a bit more on the model building aspect. Firstly, we will introduce the technique to generate out-out-fold train and test predictions for several models, we will then use these out-of-fold predictions to be  ensemble model. \n\nStrickly speaking, the ensemble method we use here is referred as **Stacked generalization** as very well ilustrated already by the following blog/articles:\n* [*Kaggle Ensemble Guide*](https://mlwave.com/kaggle-ensembling-guide/) by [Triskelion](https://www.kaggle.com/triskelion)\n* [*Stacking Made Easy: An Introduction to StackNet*](http://blog.kaggle.com/2017/06/15/stacking-made-easy-an-introduction-to-stacknet-by-competitions-grandmaster-marios-michailidis-kazanova/) by Competitions Grandmaster [Marios Michailidis (KazAnova)](https://www.kaggle.com/kazanova)\n\nSo without further ado, let's get technical.\n"
    },
    {
      "metadata": {
        "_uuid": "085698f60ad8971f6156352366c85e8f91b2d2f5",
        "trusted": false,
        "collapsed": true
      },
      "cell_type": "code",
      "source": "train=pd.read_csv('../input/train.csv')\ntest=pd.read_csv('../input/test.csv')\nsample_submission=pd.read_csv('../input/sample_submission.csv')",
      "execution_count": null,
      "outputs": []
    },
    {
      "metadata": {
        "_uuid": "ffa2554b22b30524063cdc0db9f1fd47e2f808a7"
      },
      "cell_type": "markdown",
      "source": "\n# 1. Categorical feature encoding and feature reduction\nThe following part is a strict copy & paste from the first kernel, so for detailed explaination please check it out there.\n\n## 1.1 Frequency Encoding"
    },
    {
      "metadata": {
        "collapsed": true,
        "_uuid": "8af97389f1dcefc4d8a6962358d710b466fffe55",
        "trusted": false
      },
      "cell_type": "code",
      "source": "# This function late in a list of features 'cols' from train and test dataset, \n# and performing frequency encoding. \ndef freq_encoding(cols, train_df, test_df):\n    # we are going to store our new dataset in these two resulting datasets\n    result_train_df=pd.DataFrame()\n    result_test_df=pd.DataFrame()\n    \n    # loop through each feature column to do this\n    for col in cols:\n        \n        # capture the frequency of a feature in the training set in the form of a dataframe\n        col_freq=col+'_freq'\n        freq=train_df[col].value_counts()\n        freq=pd.DataFrame(freq)\n        freq.reset_index(inplace=True)\n        freq.columns=[[col,col_freq]]\n\n        # merge ths 'freq' datafarme with the train data\n        temp_train_df=pd.merge(train_df[[col]], freq, how='left', on=col)\n        temp_train_df.drop([col], axis=1, inplace=True)\n\n        # merge this 'freq' dataframe with the test data\n        temp_test_df=pd.merge(test_df[[col]], freq, how='left', on=col)\n        temp_test_df.drop([col], axis=1, inplace=True)\n\n        # if certain levels in the test dataset is not observed in the train dataset, \n        # we assign frequency of zero to them\n        temp_test_df.fillna(0, inplace=True)\n        temp_test_df[col_freq]=temp_test_df[col_freq].astype(np.int32)\n\n        if result_train_df.shape[0]==0:\n            result_train_df=temp_train_df\n            result_test_df=temp_test_df\n        else:\n            result_train_df=pd.concat([result_train_df, temp_train_df],axis=1)\n            result_test_df=pd.concat([result_test_df, temp_test_df],axis=1)\n    \n    return result_train_df, result_test_df",
      "execution_count": null,
      "outputs": []
    },
    {
      "metadata": {
        "_uuid": "82afa98b5c4f3a44af72bf686e778b9b010a250d"
      },
      "cell_type": "markdown",
      "source": "let's run the frequency encoding function"
    },
    {
      "metadata": {
        "collapsed": true,
        "_uuid": "b0b74db9d252c4f314c52b48b7b6ec59b61c0665",
        "trusted": false
      },
      "cell_type": "code",
      "source": "cat_cols=['ps_ind_02_cat','ps_car_04_cat', 'ps_car_09_cat',\n          'ps_ind_05_cat', 'ps_car_01_cat', 'ps_car_11_cat']\n\n# generate dataframe for frequency features for the train and test dataset\ntrain_freq, test_freq=freq_encoding(cat_cols, train, test)\n\n# merge them into the original train and test dataset\ntrain=pd.concat([train, train_freq], axis=1)\ntest=pd.concat([test,test_freq], axis=1)",
      "execution_count": null,
      "outputs": []
    },
    {
      "metadata": {
        "_uuid": "46d8f992a50b4e2b63b9ca6a26935322527ecdd7"
      },
      "cell_type": "markdown",
      "source": "## 1.2 Binary Encoding"
    },
    {
      "metadata": {
        "collapsed": true,
        "_uuid": "28b5b02ea43a3c2ae8d2b6873130f393683263d5",
        "trusted": false
      },
      "cell_type": "code",
      "source": "# perform binary encoding for categorical variable\n# this function take in a pair of train and test data set, and the feature that need to be encode.\n# it returns the two dataset with input feature encoded in binary representation\n# this function assumpt that the feature to be encoded is already been encoded in a numeric manner \n# ranging from 0 to n-1 (n = number of levels in the feature). \n\ndef binary_encoding(train_df, test_df, feat):\n    # calculate the highest numerical value used for numeric encoding\n    train_feat_max = train_df[feat].max()\n    test_feat_max = test_df[feat].max()\n    if train_feat_max > test_feat_max:\n        feat_max = train_feat_max\n    else:\n        feat_max = test_feat_max\n        \n    # use the value of feat_max+1 to represent missing value\n    train_df.loc[train_df[feat] == -1, feat] = feat_max + 1\n    test_df.loc[test_df[feat] == -1, feat] = feat_max + 1\n    \n    # create a union set of all possible values of the feature\n    union_val = np.union1d(train_df[feat].unique(), test_df[feat].unique())\n\n    # extract the highest value from from the feature in decimal format.\n    max_dec = union_val.max()\n    \n    # work out how the ammount of digtis required to be represent max_dev in binary representation\n    max_bin_len = len(\"{0:b}\".format(max_dec))\n    index = np.arange(len(union_val))\n    columns = list([feat])\n    \n    # create a binary encoding feature dataframe to capture all the levels for the feature\n    bin_df = pd.DataFrame(index=index, columns=columns)\n    bin_df[feat] = union_val\n    \n    # capture the binary representation for each level of the feature \n    feat_bin = bin_df[feat].apply(lambda x: \"{0:b}\".format(x).zfill(max_bin_len))\n    \n    # split the binary representation into different bit of digits \n    splitted = feat_bin.apply(lambda x: pd.Series(list(x)).astype(np.uint8))\n    splitted.columns = [feat + '_bin_' + str(x) for x in splitted.columns]\n    bin_df = bin_df.join(splitted)\n    \n    # merge the binary feature encoding dataframe with the train and test dataset - Done! \n    train_df = pd.merge(train_df, bin_df, how='left', on=[feat])\n    test_df = pd.merge(test_df, bin_df, how='left', on=[feat])\n    return train_df, test_df\n",
      "execution_count": null,
      "outputs": []
    },
    {
      "metadata": {
        "_uuid": "9c1a8229ee948f48a96185928321d1df36bdc3a5"
      },
      "cell_type": "markdown",
      "source": "let's run the binary encoding function"
    },
    {
      "metadata": {
        "collapsed": true,
        "_uuid": "0e4bec2c99d0a544e1689a76deca68daacab4f12",
        "trusted": false
      },
      "cell_type": "code",
      "source": "cat_cols=['ps_ind_02_cat','ps_car_04_cat', 'ps_car_09_cat',\n          'ps_ind_05_cat', 'ps_car_01_cat']\n\ntrain, test=binary_encoding(train, test, 'ps_ind_02_cat')\ntrain, test=binary_encoding(train, test, 'ps_car_04_cat')\ntrain, test=binary_encoding(train, test, 'ps_car_09_cat')\ntrain, test=binary_encoding(train, test, 'ps_ind_05_cat')\ntrain, test=binary_encoding(train, test, 'ps_car_01_cat')",
      "execution_count": null,
      "outputs": []
    },
    {
      "metadata": {
        "_uuid": "9cd27e96eab208af934b2c829a13db014b83a296"
      },
      "cell_type": "markdown",
      "source": "optionally, you can also choose to drop the original categorical features. Shoud you do it? I say trust your CV :)\nlet's do this here jut for demonstration purpose"
    },
    {
      "metadata": {
        "collapsed": true,
        "_uuid": "56b4ef14492a5f3011f482827e4eb37c376c9a70",
        "trusted": false
      },
      "cell_type": "code",
      "source": "col_to_drop = train.columns[train.columns.str.startswith('ps_calc_')]\ntrain.drop(col_to_drop, axis=1, inplace=True)  \ntest.drop(col_to_drop, axis=1, inplace=True)  ",
      "execution_count": null,
      "outputs": []
    },
    {
      "metadata": {
        "_uuid": "2f38fd3a3f02ece66a3407f8f8c8fc6ff7bb9341"
      },
      "cell_type": "markdown",
      "source": "## 1.3 Feature Reduction\nLet's now drop all the features with the wording \"cal\" - \"Cal, you are FIRED\" ^ ^"
    },
    {
      "metadata": {
        "collapsed": true,
        "_uuid": "67bf58cf95ff0d04c05f9f6cf688152d9984a676",
        "trusted": false
      },
      "cell_type": "code",
      "source": "col_to_drop = train.columns[train.columns.str.startswith('ps_calc_')]\ntrain.drop(col_to_drop, axis=1, inplace=True)  \ntest.drop(col_to_drop, axis=1, inplace=True)",
      "execution_count": null,
      "outputs": []
    },
    {
      "metadata": {
        "_uuid": "0eac67cb461109d391eb6e552b17de3c9de405fe"
      },
      "cell_type": "markdown",
      "source": "Right, after the above data manipulation, we can now take a brief look at our dataset."
    },
    {
      "metadata": {
        "_uuid": "64bb697ead00150f01f1d4bb7eb9c6d3ccb6deef",
        "trusted": false,
        "collapsed": true
      },
      "cell_type": "code",
      "source": "train.head(5)",
      "execution_count": null,
      "outputs": []
    },
    {
      "metadata": {
        "_uuid": "71ec483cdf0bd0322b4e63a08509174ef265d346"
      },
      "cell_type": "markdown",
      "source": "# 2. K-fold CV with Out-of-Fold Prediction\n\n\n*Note: for demonstration purpose, I have dump down the parameters of the models to make them run faster, so please take time to find a good cominbation of parameter when you send them out to battle for real!*\n\n## 2.1 OOF utility functions\nFirstly, let's write this handy function to convert AUC score into Gini Normalised Coeficient"
    },
    {
      "metadata": {
        "collapsed": true,
        "_uuid": "677b22528c530d183ef1172841a6e0a29f916850",
        "trusted": false
      },
      "cell_type": "code",
      "source": "def auc_to_gini_norm(auc_score):\n    return 2*auc_score-1",
      "execution_count": null,
      "outputs": []
    },
    {
      "metadata": {
        "_uuid": "82db221ba9da69da67f101c8ad8b78ac4779b256"
      },
      "cell_type": "markdown",
      "source": "### 2.1.1 Sklearn K-fold & OOF function\nNext up next provide a K-fold function that generate out-of-fold predictions for train and test data."
    },
    {
      "metadata": {
        "collapsed": true,
        "_uuid": "b4ee7c725c27fb52d9b8ac2d2434672a788e3fbd",
        "trusted": false
      },
      "cell_type": "code",
      "source": "def cross_validate_sklearn(clf, x_train, y_train , x_test, kf,scale=False, verbose=True):\n    start_time=time.time()\n    \n    # initialise the size of out-of-fold train an test prediction\n    train_pred = np.zeros((x_train.shape[0]))\n    test_pred = np.zeros((x_test.shape[0]))\n\n    # use the kfold object to generate the required folds\n    for i, (train_index, test_index) in enumerate(kf.split(x_train, y_train)):\n        # generate training folds and validation fold\n        x_train_kf, x_val_kf = x_train.loc[train_index, :], x_train.loc[test_index, :]\n        y_train_kf, y_val_kf = y_train[train_index], y_train[test_index]\n\n        # perform scaling if required i.e. for linear algorithms\n        if scale:\n            scaler = StandardScaler().fit(x_train_kf.values)\n            x_train_kf_values = scaler.transform(x_train_kf.values)\n            x_val_kf_values = scaler.transform(x_val_kf.values)\n            x_test_values = scaler.transform(x_test.values)\n        else:\n            x_train_kf_values = x_train_kf.values\n            x_val_kf_values = x_val_kf.values\n            x_test_values = x_test.values\n        \n        # fit the input classifier and perform prediction.\n        clf.fit(x_train_kf_values, y_train_kf.values)\n        val_pred=clf.predict_proba(x_val_kf_values)[:,1]\n        train_pred[test_index] += val_pred\n\n        y_test_preds = clf.predict_proba(x_test_values)[:,1]\n        test_pred += y_test_preds\n\n        fold_auc = roc_auc_score(y_val_kf.values, val_pred)\n        fold_gini_norm = auc_to_gini_norm(fold_auc)\n\n        if verbose:\n            print('fold cv {} AUC score is {:.6f}, Gini_Norm score is {:.6f}'.format(i, fold_auc, fold_gini_norm))\n\n    test_pred /= kf.n_splits\n\n    cv_auc = roc_auc_score(y_train, train_pred)\n    cv_gini_norm = auc_to_gini_norm(cv_auc)\n    cv_score = [cv_auc, cv_gini_norm]\n    if verbose:\n        print('cv AUC score is {:.6f}, Gini_Norm score is {:.6f}'.format(cv_auc, cv_gini_norm))\n        end_time = time.time()\n        print(\"it takes %.3f seconds to perform cross validation\" % (end_time - start_time))\n    return cv_score, train_pred,test_pred\n",
      "execution_count": null,
      "outputs": []
    },
    {
      "metadata": {
        "_uuid": "ee00f0528cab9b67f83ed8482745d166670c585f"
      },
      "cell_type": "markdown",
      "source": "### 2.1.2 Xgboost K-fold & OOF function\nIn this part, we are going to use the native interface of XGB and LGB, so the following functions are tailor for this. For sure it would be easiler just to call the respective sklearn api, but the native interfaces provide some nice additional capability. For instance, the 'hist' option to use fast histogram in XGB is only available via the native interface as far as I know. \n\nAlso, we need to provide the following function to convert probability into rank for these two OOF function. The needs to use normalised rank instead of predicted probabilities will become appearent later in this notebook :) "
    },
    {
      "metadata": {
        "collapsed": true,
        "_uuid": "07b1bef00237a7329e67f33bc5a5b55750ec826f",
        "trusted": false
      },
      "cell_type": "code",
      "source": "def probability_to_rank(prediction, scaler=1):\n    pred_df=pd.DataFrame(columns=['probability'])\n    pred_df['probability']=prediction\n    pred_df['rank']=pred_df['probability'].rank()/len(prediction)*scaler\n    return pred_df['rank'].values",
      "execution_count": null,
      "outputs": []
    },
    {
      "metadata": {
        "_uuid": "db8f67e67cd8d63fd10ad1f7453de5833eebb9b7"
      },
      "cell_type": "markdown",
      "source": "The following is the k-fold function for XGB to generate OOF predictions, this function is very much similar to its sklearn counter part. The difference is that we need to use the XGB interface to facilitate the classifer, also we provide an option cover probability into rank."
    },
    {
      "metadata": {
        "collapsed": true,
        "_uuid": "a804d4152d9ccf98daadc2ef00032a96651a8bc2",
        "trusted": false
      },
      "cell_type": "code",
      "source": "def cross_validate_xgb(params, x_train, y_train, x_test, kf, cat_cols=[], verbose=True, \n                       verbose_eval=50, num_boost_round=4000, use_rank=True):\n    start_time=time.time()\n\n    train_pred = np.zeros((x_train.shape[0]))\n    test_pred = np.zeros((x_test.shape[0]))\n\n    # use the k-fold object to enumerate indexes for each training and validation fold\n    for i, (train_index, val_index) in enumerate(kf.split(x_train, y_train)): # folds 1, 2 ,3 ,4, 5\n        # example: training from 1,2,3,4; validation from 5\n        x_train_kf, x_val_kf = x_train.loc[train_index, :], x_train.loc[val_index, :]\n        y_train_kf, y_val_kf = y_train[train_index], y_train[val_index]\n        x_test_kf=x_test.copy()\n\n        d_train_kf = xgb.DMatrix(x_train_kf, label=y_train_kf)\n        d_val_kf = xgb.DMatrix(x_val_kf, label=y_val_kf)\n        d_test = xgb.DMatrix(x_test_kf)\n\n        bst = xgb.train(params, d_train_kf, num_boost_round=num_boost_round,\n                        evals=[(d_train_kf, 'train'), (d_val_kf, 'val')], verbose_eval=verbose_eval,\n                        early_stopping_rounds=50)\n\n        val_pred = bst.predict(d_val_kf, ntree_limit=bst.best_ntree_limit)\n        if use_rank:\n            train_pred[val_index] += probability_to_rank(val_pred)\n            test_pred+=probability_to_rank(bst.predict(d_test))\n        else:\n            train_pred[val_index] += val_pred\n            test_pred+=bst.predict(d_test)\n\n        fold_auc = roc_auc_score(y_val_kf.values, val_pred)\n        fold_gini_norm = auc_to_gini_norm(fold_auc)\n\n        if verbose:\n            print('fold cv {} AUC score is {:.6f}, Gini_Norm score is {:.6f}'.format(i, fold_auc, \n                                                                                     fold_gini_norm))\n\n    test_pred /= kf.n_splits\n\n    cv_auc = roc_auc_score(y_train, train_pred)\n    cv_gini_norm = auc_to_gini_norm(cv_auc)\n    cv_score = [cv_auc, cv_gini_norm]\n    if verbose:\n        print('cv AUC score is {:.6f}, Gini_Norm score is {:.6f}'.format(cv_auc, cv_gini_norm))\n        end_time = time.time()\n        print(\"it takes %.3f seconds to perform cross validation\" % (end_time - start_time))\n\n        return cv_score, train_pred,test_pred\n",
      "execution_count": null,
      "outputs": []
    },
    {
      "metadata": {
        "_uuid": "62fd3ef850d36ba1ef51df3e39a547d5de665b23"
      },
      "cell_type": "markdown",
      "source": "### 2.1.3 LigthGBM K-fold & OOF function\nThe same function for LGB, this one is almost identifical to the one for XGB, apart from code that call the LightGBM interface"
    },
    {
      "metadata": {
        "collapsed": true,
        "_uuid": "55d52fd5c8ce8083b7dae5ee59e185ab524979cd",
        "trusted": false
      },
      "cell_type": "code",
      "source": "def cross_validate_lgb(params, x_train, y_train, x_test, kf, cat_cols=[],\n                       verbose=True, verbose_eval=50, use_cat=True, use_rank=True):\n    start_time = time.time()\n    train_pred = np.zeros((x_train.shape[0]))\n    test_pred = np.zeros((x_test.shape[0]))\n\n    if len(cat_cols)==0: use_cat=False\n\n    # use the k-fold object to enumerate indexes for each training and validation fold\n    for i, (train_index, val_index) in enumerate(kf.split(x_train, y_train)): # folds 1, 2 ,3 ,4, 5\n        # example: training from 1,2,3,4; validation from 5\n        x_train_kf, x_val_kf = x_train.loc[train_index, :], x_train.loc[val_index, :]\n        y_train_kf, y_val_kf = y_train[train_index], y_train[val_index]\n\n        if use_cat:\n            lgb_train = lgb.Dataset(x_train_kf, y_train_kf, categorical_feature=cat_cols)\n            lgb_val = lgb.Dataset(x_val_kf, y_val_kf, reference=lgb_train, categorical_feature=cat_cols)\n        else:\n            lgb_train = lgb.Dataset(x_train_kf, y_train_kf)\n            lgb_val = lgb.Dataset(x_val_kf, y_val_kf, reference=lgb_train)\n\n        gbm = lgb.train(params,\n                        lgb_train,\n                        num_boost_round=4000,\n                        valid_sets=lgb_val,\n                        early_stopping_rounds=30,\n                        verbose_eval=verbose_eval)\n\n        val_pred = gbm.predict(x_val_kf)\n\n        if use_rank:\n            train_pred[val_index] += probability_to_rank(val_pred)\n            test_pred += probability_to_rank(gbm.predict(x_test))\n            # test_pred += gbm.predict(x_test)\n        else:\n            train_pred[val_index] += val_pred\n            test_pred += gbm.predict(x_test)\n\n        # test_pred += gbm.predict(x_test)\n        fold_auc = roc_auc_score(y_val_kf.values, val_pred)\n        fold_gini_norm = auc_to_gini_norm(fold_auc)\n        if verbose:\n            print('fold cv {} AUC score is {:.6f}, Gini_Norm score is {:.6f}'.format(i, fold_auc, fold_gini_norm))\n\n    test_pred /= kf.n_splits\n\n    cv_auc = roc_auc_score(y_train, train_pred)\n    cv_gini_norm = auc_to_gini_norm(cv_auc)\n    cv_score = [cv_auc, cv_gini_norm]\n    if verbose:\n        print('cv AUC score is {:.6f}, Gini_Norm score is {:.6f}'.format(cv_auc, cv_gini_norm))\n        end_time = time.time()\n        print(\"it takes %.3f seconds to perform cross validation\" % (end_time - start_time))\n    return cv_score, train_pred,test_pred\n",
      "execution_count": null,
      "outputs": []
    },
    {
      "metadata": {
        "_uuid": "7a7d41c6285b3daa970a2a33611a0cec6b44783e"
      },
      "cell_type": "markdown",
      "source": "# 3. Generate level 1 OOF predictions\nAlmost there to actually generate some level OOF output! last things to do is the prepare our train and test data for our dear machine learning algorithms, and create the StratifiedKFold object"
    },
    {
      "metadata": {
        "collapsed": true,
        "_uuid": "0324beacc1a5eb0f3760813fc0c16c44152e9708",
        "trusted": false
      },
      "cell_type": "code",
      "source": "drop_cols=['id','target']\ny_train=train['target']\nx_train=train.drop(drop_cols, axis=1)\nx_test=test.drop(['id'], axis=1)",
      "execution_count": null,
      "outputs": []
    },
    {
      "metadata": {
        "_uuid": "b3827aa008be9984d2d259e3686953523eef6d9f"
      },
      "cell_type": "markdown",
      "source": "Here, I would like remind you that for stacking, you SHALL use consistent fold distribution at ALL level for ALL your model. The technical reaons for this had been discussed at length in this [forum thread](https://www.kaggle.com/c/porto-seguro-safe-driver-prediction/discussion/43467)  by our right honourable fellow competitors"
    },
    {
      "metadata": {
        "collapsed": true,
        "_uuid": "a1e94188e3a404c97ad7f21c3ca13a8c2011e305",
        "trusted": false
      },
      "cell_type": "code",
      "source": "kf=StratifiedKFold(n_splits=5, shuffle=True, random_state=2017)",
      "execution_count": null,
      "outputs": []
    },
    {
      "metadata": {
        "_uuid": "aee5bf270c4b8b70a785b2b1752e28bc726b036f"
      },
      "cell_type": "markdown",
      "source": "Right! next generate some level 1 model output..."
    },
    {
      "metadata": {
        "_uuid": "a85fb19c3125819083828b1530330105c4919642"
      },
      "cell_type": "markdown",
      "source": "## 3.1 Random Forest\nLet's use the old good random forest algorithm"
    },
    {
      "metadata": {
        "_uuid": "5b5657cec72ade7855ec3d13e67e78f24b11c317",
        "trusted": false,
        "collapsed": true
      },
      "cell_type": "code",
      "source": "rf=RandomForestClassifier(n_estimators=200, n_jobs=6, min_samples_split=5, max_depth=7,\n                          criterion='gini', random_state=0)\n\noutcomes =cross_validate_sklearn(rf, x_train, y_train ,x_test, kf, scale=False, verbose=True)\n\nrf_cv=outcomes[0]\nrf_train_pred=outcomes[1]\nrf_test_pred=outcomes[2]\n\nrf_train_pred_df=pd.DataFrame(columns=['prediction_probability'], data=rf_train_pred)\nrf_test_pred_df=pd.DataFrame(columns=['prediction_probability'], data=rf_test_pred)\n",
      "execution_count": null,
      "outputs": []
    },
    {
      "metadata": {
        "collapsed": true,
        "_uuid": "e627c4c662c96b46c23c38e68c0acee4f89bcf77",
        "trusted": false
      },
      "cell_type": "code",
      "source": "",
      "execution_count": null,
      "outputs": []
    },
    {
      "metadata": {
        "_uuid": "1a96e8654fe6824aacbd4b5804961734ce9ec363"
      },
      "cell_type": "markdown",
      "source": "## 3.2 Extra Tree\nWe love tree! We love more trees, and therefore let's have extra tree :)"
    },
    {
      "metadata": {
        "_uuid": "7dd0c45fb19f5e76205d2888c126067740255e91",
        "trusted": false,
        "collapsed": true
      },
      "cell_type": "code",
      "source": "et=RandomForestClassifier(n_estimators=100, n_jobs=6, min_samples_split=5, max_depth=5,\n                          criterion='gini', random_state=0)\n\noutcomes =cross_validate_sklearn(et, x_train, y_train ,x_test, kf, scale=False, verbose=True)\n\net_cv=outcomes[0]\net_train_pred=outcomes[1]\net_test_pred=outcomes[2]\n\net_train_pred_df=pd.DataFrame(columns=['prediction_probability'], data=et_train_pred)\net_test_pred_df=pd.DataFrame(columns=['prediction_probability'], data=et_test_pred)",
      "execution_count": null,
      "outputs": []
    },
    {
      "metadata": {
        "_uuid": "7f6e9caf53434dbee9b976f50fc010c64f49574b"
      },
      "cell_type": "markdown",
      "source": "## 3.3 Logistic Regression\nLet's now throw in our favourite linear friend - Logistic Regression"
    },
    {
      "metadata": {
        "_uuid": "17f202fffb4c5d2caed37b8d636cb3600bdf00ec",
        "trusted": false,
        "collapsed": true
      },
      "cell_type": "code",
      "source": "logit=LogisticRegression(random_state=0, C=0.5)\n\noutcomes = cross_validate_sklearn(logit, x_train, y_train ,x_test, kf, scale=True, verbose=True)\n\nlogit_cv=outcomes[0]\nlogit_train_pred=outcomes[1]\nlogit_test_pred=outcomes[2]\n\nlogit_train_pred_df=pd.DataFrame(columns=['prediction_probability'], data=logit_train_pred)\nlogit_test_pred_df=pd.DataFrame(columns=['prediction_probability'], data=logit_test_pred)",
      "execution_count": null,
      "outputs": []
    },
    {
      "metadata": {
        "_uuid": "07fbb7295bfc77b16cfc4d505929fe5ce1bbf264"
      },
      "cell_type": "markdown",
      "source": "## 3.4 BernoulliNB\nA little bit of diversity from Naive Bayes never heard, this one of those algorithms that normally don't generate sigle output that rival XGB/LGB, but nevertheless help to improve the overal stacking performance due the diversity it bring to the party"
    },
    {
      "metadata": {
        "_uuid": "12ab49d6385f3093b09114c578742a205d43b90f",
        "trusted": false,
        "collapsed": true
      },
      "cell_type": "code",
      "source": "nb=BernoulliNB()\n\noutcomes =cross_validate_sklearn(nb, x_train, y_train ,x_test, kf, scale=True, verbose=True)\n\nnb_cv=outcomes[0]\nnb_train_pred=outcomes[1]\nnb_test_pred=outcomes[2]\n\nnb_train_pred_df=pd.DataFrame(columns=['prediction_probability'], data=nb_train_pred)\nnb_test_pred_df=pd.DataFrame(columns=['prediction_probability'], data=nb_test_pred)",
      "execution_count": null,
      "outputs": []
    },
    {
      "metadata": {
        "_uuid": "ce3802ab9357ef122a50bae2468dead19e6e66dd"
      },
      "cell_type": "markdown",
      "source": "## 3.5 XGB\nNow this is our go-to GBM Bazooka:"
    },
    {
      "metadata": {
        "_uuid": "2a6ff881ea496e08cdcdfbc9ecc2e0652436eb0e",
        "trusted": false,
        "collapsed": true
      },
      "cell_type": "code",
      "source": "xgb_params = {\n    \"booster\"  :  \"gbtree\", \n    \"objective\"         :  \"binary:logistic\",\n    \"tree_method\": \"hist\",\n    \"eval_metric\": \"auc\",\n    \"eta\": 0.1,\n    \"max_depth\": 5,\n    \"min_child_weight\": 10,\n    \"gamma\": 0.70,\n    \"subsample\": 0.76,\n    \"colsample_bytree\": 0.95,\n    \"nthread\": 6,\n    \"seed\": 0,\n    'silent': 1\n}\n\noutcomes=cross_validate_xgb(xgb_params, x_train, y_train, x_test, kf, use_rank=False, verbose_eval=False)\n\nxgb_cv=outcomes[0]\nxgb_train_pred=outcomes[1]\nxgb_test_pred=outcomes[2]\n\nxgb_train_pred_df=pd.DataFrame(columns=['prediction_probability'], data=xgb_train_pred)\nxgb_test_pred_df=pd.DataFrame(columns=['prediction_probability'], data=xgb_test_pred)",
      "execution_count": null,
      "outputs": []
    },
    {
      "metadata": {
        "_uuid": "ce622103baf1ea44be796ad75656d64d31c4eda1"
      },
      "cell_type": "markdown",
      "source": "## 3.6 LightGBM\nThere is a crack in everything, that's how the light gets in :) "
    },
    {
      "metadata": {
        "_uuid": "988783edc82ac82f7f5e7aeba51084725d0b210b",
        "trusted": false,
        "collapsed": true
      },
      "cell_type": "code",
      "source": "lgb_params = {\n    'task': 'train',\n    'boosting_type': 'dart',\n    'objective': 'binary',\n    'metric': {'auc'},\n    'num_leaves': 22,\n    'min_sum_hessian_in_leaf': 20,\n    'max_depth': 5,\n    'learning_rate': 0.1,  # 0.618580\n    'num_threads': 6,\n    'feature_fraction': 0.6894,\n    'bagging_fraction': 0.4218,\n    'max_drop': 5,\n    'drop_rate': 0.0123,\n    'min_data_in_leaf': 10,\n    'bagging_freq': 1,\n    'lambda_l1': 1,\n    'lambda_l2': 0.01,\n    'verbose': 1\n}\n\n\ncat_cols=['ps_ind_02_cat','ps_car_04_cat', 'ps_car_09_cat','ps_ind_05_cat', 'ps_car_01_cat']\noutcomes=cross_validate_lgb(lgb_params,x_train, y_train ,x_test,kf, cat_cols, use_cat=True, \n                            verbose_eval=False, use_rank=False)\n\nlgb_cv=outcomes[0]\nlgb_train_pred=outcomes[1]\nlgb_test_pred=outcomes[2]\n\nlgb_train_pred_df=pd.DataFrame(columns=['prediction_probability'], data=lgb_train_pred)\nlgb_test_pred_df=pd.DataFrame(columns=['prediction_probability'], data=lgb_test_pred)",
      "execution_count": null,
      "outputs": []
    },
    {
      "metadata": {
        "_uuid": "aa9ae2d9bd69530b1c180f111cac735e12a51cfd"
      },
      "cell_type": "markdown",
      "source": "We now have our level 1 friends ready, lets proceed and send them into the stacking party!"
    },
    {
      "metadata": {
        "_uuid": "6344f9f7db4fc9ca4b58591bed4f173b2b8778e2"
      },
      "cell_type": "markdown",
      "source": "# 4. Level 2 ensemble"
    },
    {
      "metadata": {
        "_uuid": "046536c3379d63af9b10c485b6dc241f5be325c5"
      },
      "cell_type": "markdown",
      "source": "## 4.1 Generate L1 output dataframe\nLet's group ouf level 1 OOF predictions output together to genenerate the input for level 2 stacking"
    },
    {
      "metadata": {
        "collapsed": true,
        "_uuid": "6ed1dcd43c7b97819b43cc8664052b19e3bdcb22",
        "trusted": false
      },
      "cell_type": "code",
      "source": "columns=['rf','et','logit','nb','xgb','lgb']\ntrain_pred_df_list=[rf_train_pred_df, et_train_pred_df, logit_train_pred_df, nb_train_pred_df,\n                    xgb_train_pred_df, lgb_train_pred_df]\n\ntest_pred_df_list=[rf_test_pred_df, et_test_pred_df, logit_test_pred_df, nb_test_pred_df,\n                    xgb_test_pred_df, lgb_test_pred_df]\n\nlv1_train_df=pd.DataFrame(columns=columns)\nlv1_test_df=pd.DataFrame(columns=columns)\n\nfor i in range(0,len(columns)):\n    lv1_train_df[columns[i]]=train_pred_df_list[i]['prediction_probability']\n    lv1_test_df[columns[i]]=test_pred_df_list[i]['prediction_probability']\n\n",
      "execution_count": null,
      "outputs": []
    },
    {
      "metadata": {
        "_uuid": "5dd75d29fed4fc7ead8b8e3e7520ca4927a98939"
      },
      "cell_type": "markdown",
      "source": "## 4.2 Level 2 XGB\nBack to XGB for level 2! everything shall be the same, paint old easy mdoel building, right? well.."
    },
    {
      "metadata": {
        "_uuid": "5f7ca722c01e1a32a675be5445f8817e919d11d2",
        "trusted": false,
        "collapsed": true
      },
      "cell_type": "code",
      "source": "xgb_lv2_outcomes=cross_validate_xgb(xgb_params, lv1_train_df, y_train, lv1_test_df, kf, \n                                          verbose=True, verbose_eval=False, use_rank=False)\n\nxgb_lv2_cv=xgb_lv2_outcomes[0]\nxgb_lv2_train_pred=xgb_lv2_outcomes[1]\nxgb_lv2_test_pred=xgb_lv2_outcomes[2]",
      "execution_count": null,
      "outputs": []
    },
    {
      "metadata": {
        "_uuid": "876a6197bda927b770eab327c798cca009f09f93"
      },
      "cell_type": "markdown",
      "source": "So what just happened there?  Our CV score for each training fold is pretty descent, but our overall training CV score just fell through the crack!  Well, it turns out since we are using AUC/Gini as metric which is ranking dependent, and it turns out that if you apply xgb and lgb at level 2 stacking, the ranking get messed up when each fold's prediction scores are put together.  And this goes back to why we implemented that function to convert probability into ranks earlier.\n\nNow, let's use the *use_rank* option, and see what happens:"
    },
    {
      "metadata": {
        "_uuid": "1a46635912c9260fd2c4f61d79aa0e558f99356e",
        "trusted": false,
        "collapsed": true
      },
      "cell_type": "code",
      "source": "xgb_lv2_outcomes=cross_validate_xgb(xgb_params, lv1_train_df, y_train, lv1_test_df, kf, \n                                          verbose=True, verbose_eval=False, use_rank=True)\n\nxgb_lv2_cv=xgb_lv2_outcomes[0]\nxgb_lv2_train_pred=xgb_lv2_outcomes[1]\nxgb_lv2_test_pred=xgb_lv2_outcomes[2]",
      "execution_count": null,
      "outputs": []
    },
    {
      "metadata": {
        "_uuid": "827c6ea00c25cf63012f5e7b4c041e1b6301285b"
      },
      "cell_type": "markdown",
      "source": "Much better, the OOF score for train prediction looks great! and you can see the score here is better already than any of the level 1 OOF train score. The best score in level 1 comes from XGB with 0.282 region, and we are now on 0.284"
    },
    {
      "metadata": {
        "_uuid": "29e471677c44f66434e3516925a31bf94c74e6f1"
      },
      "cell_type": "markdown",
      "source": " ## 4.3 Level 2 LightGBM\nSame story for LightGBM at level 2, we need to use the *use_rank* option:"
    },
    {
      "metadata": {
        "_uuid": "cd452ff0a6b6c4b9fc4c7655a2494feb20fb61e0",
        "trusted": false,
        "collapsed": true
      },
      "cell_type": "code",
      "source": "lgb_lv2_outcomes=cross_validate_lgb(lgb_params,lv1_train_df, y_train ,lv1_test_df,kf, [], use_cat=False, \n                                    verbose_eval=False, use_rank=True)\n\nlgb_lv2_cv=xgb_lv2_outcomes[0]\nlgb_lv2_train_pred=lgb_lv2_outcomes[1]\nlgb_lv2_test_pred=lgb_lv2_outcomes[2]",
      "execution_count": null,
      "outputs": []
    },
    {
      "metadata": {
        "_uuid": "1381835e069abd756cc486f2ad8a379c560bb4a2"
      },
      "cell_type": "markdown",
      "source": "No surprise here :)"
    },
    {
      "metadata": {
        "_uuid": "8c419eb7bc7a68f90198e87db70b0e5c0a53872b"
      },
      "cell_type": "markdown",
      "source": "## 4.3 Level 2 Random Forest\nNow let's try a few more algorithms on level 2, and let's revisit random forest again."
    },
    {
      "metadata": {
        "_uuid": "f0000891d3b9b7a3bafd956f73aa70471f9a73c4",
        "trusted": false,
        "collapsed": true
      },
      "cell_type": "code",
      "source": "rf_lv2=RandomForestClassifier(n_estimators=200, n_jobs=6, min_samples_split=5, max_depth=7,\n                          criterion='gini', random_state=0)\nrf_lv2_outcomes = cross_validate_sklearn(rf_lv2, lv1_train_df, y_train ,lv1_test_df, kf, \n                                            scale=True, verbose=True)\nrf_lv2_cv=rf_lv2_outcomes[0]\nrf_lv2_train_pred=rf_lv2_outcomes[1]\nrf_lv2_test_pred=rf_lv2_outcomes[2]",
      "execution_count": null,
      "outputs": []
    },
    {
      "metadata": {
        "_uuid": "1cb27367e58de4101718914474578117c7c10d33"
      },
      "cell_type": "markdown",
      "source": "## 4.4 Level 2 Logistic Regression\nLogistic Regression, take 2"
    },
    {
      "metadata": {
        "_uuid": "bd27031d9eb266b067fcc5d91d51d9018c6341d6",
        "trusted": false,
        "collapsed": true
      },
      "cell_type": "code",
      "source": "logit_lv2=LogisticRegression(random_state=0, C=0.5)\nlogit_lv2_outcomes = cross_validate_sklearn(logit_lv2, lv1_train_df, y_train ,lv1_test_df, kf, \n                                            scale=True, verbose=True)\nlogit_lv2_cv=logit_lv2_outcomes[0]\nlogit_lv2_train_pred=logit_lv2_outcomes[1]\nlogit_lv2_test_pred=logit_lv2_outcomes[2]",
      "execution_count": null,
      "outputs": []
    },
    {
      "metadata": {
        "_uuid": "00bf8a073c2dbc3c71b3a34472adb79e4ddfe551"
      },
      "cell_type": "markdown",
      "source": "Hopefully by now you can see that on level 2, models like random forest and logistic regression are now producing very competivie results thanks to the meta-features from the level 1 OOF output.\n\nWe are having fun! and why stop in level 2? let's bring on level 3 :)"
    },
    {
      "metadata": {
        "_uuid": "66ae06b5b8219be7eb01d341247e57c118a67356"
      },
      "cell_type": "markdown",
      "source": "# 5. Level 3 ensemble\nOn level 3, we follow simlar workflow as level 2. First we put the OOF output from level 2 together, and then send them to our chosen algorithms.\n\n## 5.1 Generate L2 output dataframe"
    },
    {
      "metadata": {
        "collapsed": true,
        "_uuid": "9989de074618efa1288c6d0d2fb1f0ac6ec3f35d",
        "trusted": false
      },
      "cell_type": "code",
      "source": "lv2_columns=['rf_lf2', 'logit_lv2', 'xgb_lv2','lgb_lv2']\ntrain_lv2_pred_list=[rf_lv2_train_pred, logit_lv2_train_pred, xgb_lv2_train_pred, lgb_lv2_train_pred]\n\ntest_lv2_pred_list=[rf_lv2_test_pred, logit_lv2_test_pred, xgb_lv2_test_pred, lgb_lv2_test_pred]\n\nlv2_train=pd.DataFrame(columns=lv2_columns)\nlv2_test=pd.DataFrame(columns=lv2_columns)\n\nfor i in range(0,len(lv2_columns)):\n    lv2_train[lv2_columns[i]]=train_lv2_pred_list[i]\n    lv2_test[lv2_columns[i]]=test_lv2_pred_list[i]",
      "execution_count": null,
      "outputs": []
    },
    {
      "metadata": {
        "_uuid": "da7cbc5a4e44a6c7586f1c42f68ee2b1fc588c84"
      },
      "cell_type": "markdown",
      "source": "## 5.2 Level 3 XGB \nOn this level, let's just stay with our trusted weapon XGB"
    },
    {
      "metadata": {
        "_uuid": "90c72d9d3bab5b6d3109ccebcf8ba389888fe886",
        "trusted": false,
        "collapsed": true
      },
      "cell_type": "code",
      "source": "xgb_lv3_params = {\n    \"booster\"  :  \"gbtree\", \n    \"objective\"         :  \"binary:logistic\",\n    \"tree_method\": \"hist\",\n    \"eval_metric\": \"auc\",\n    \"eta\": 0.1,\n    \"max_depth\": 2,\n    \"min_child_weight\": 10,\n    \"gamma\": 0.70,\n    \"subsample\": 0.76,\n    \"colsample_bytree\": 0.95,\n    \"nthread\": 6,\n    \"seed\": 0,\n    'silent': 1\n}\n\n\n\nxgb_lv3_outcomes=cross_validate_xgb(xgb_lv3_params, lv2_train, y_train, lv2_test, kf, \n                                          verbose=True, verbose_eval=False, use_rank=True)\n\nxgb_lv3_cv=xgb_lv3_outcomes[0]\nxgb_lv3_train_pred=xgb_lv3_outcomes[1]\nxgb_lv3_test_pred=xgb_lv3_outcomes[2]",
      "execution_count": null,
      "outputs": []
    },
    {
      "metadata": {
        "_uuid": "6aaf05ce77a53648a424d842b3b41298f58ce965"
      },
      "cell_type": "markdown",
      "source": "This is slightly better than the XGB ouput at level 2, but not by much, as we are now seeing diminsing return as the level improve. Let's try tp pair this with something linear."
    },
    {
      "metadata": {
        "_uuid": "47c0426712e4cd34b16659337969d250788ae529"
      },
      "cell_type": "markdown",
      "source": "## 5.3 Level 3 Logistic Regression\nand of course that something linear is going to be Logistic Regression"
    },
    {
      "metadata": {
        "_uuid": "96ef7806042770be2073d76cd70dceadb47fd40d",
        "trusted": false,
        "collapsed": true
      },
      "cell_type": "code",
      "source": "logit_lv3=LogisticRegression(random_state=0, C=0.5)\nlogit_lv3_outcomes = cross_validate_sklearn(logit_lv3, lv2_train, y_train ,lv2_test, kf, \n                                            scale=True, verbose=True)\nlogit_lv3_cv=logit_lv3_outcomes[0]\nlogit_lv3_train_pred=logit_lv3_outcomes[1]\nlogit_lv3_test_pred=logit_lv3_outcomes[2]",
      "execution_count": null,
      "outputs": []
    },
    {
      "metadata": {
        "_uuid": "91d42d986360fd1729d3d0767a84edade6e65541"
      },
      "cell_type": "markdown",
      "source": "At this level, we don't see that much different between XGB and Logistic Regression anymore."
    },
    {
      "metadata": {
        "_uuid": "5f3c0bf3427f33ea6c1f3de2537480678287d630"
      },
      "cell_type": "markdown",
      "source": "## 5.4 Average L3 outputs & Submission Generation"
    },
    {
      "metadata": {
        "_uuid": "245470bf8597bc48db7d581e9735e9845e2a1df7"
      },
      "cell_type": "markdown",
      "source": "We can always still do a simple weight average, to bring the two together and see if there any extra juice to be squeezed"
    },
    {
      "metadata": {
        "_uuid": "1af27b3054d692e804d2b5b29365b1b7a350237d",
        "trusted": false,
        "collapsed": true
      },
      "cell_type": "code",
      "source": "weight_avg=logit_lv3_train_pred*0.5+ xgb_lv3_train_pred*0.5\nprint(auc_to_gini_norm(roc_auc_score(y_train, weight_avg)))",
      "execution_count": null,
      "outputs": []
    },
    {
      "metadata": {
        "_uuid": "8ab36b8e68aedc3692d0bf232c5e726f669a9119"
      },
      "cell_type": "markdown",
      "source": "Well, for training score, we manage to arravie at 0.28443.\nWe can now try to apply the same weight distribution to generate our submission."
    },
    {
      "metadata": {
        "collapsed": true,
        "_uuid": "068c2b470282637fd953b08c375c56dd13f79ca4",
        "trusted": false
      },
      "cell_type": "code",
      "source": "submission=sample_submission.copy()\nsubmission['target']=logit_lv3_test_pred*0.5+ xgb_lv3_test_pred*0.5\nfilename='stacking_demonstration.csv.gz'\nsubmission.to_csv(filename,compression='gzip', index=False)",
      "execution_count": null,
      "outputs": []
    },
    {
      "metadata": {
        "_uuid": "1745803073c24ec187f2f3b435ee2859ccd6ebd4"
      },
      "cell_type": "markdown",
      "source": "# 6 After Thought"
    },
    {
      "metadata": {
        "_uuid": "d3457679be7501feedf709152be6f8a56b12142c"
      },
      "cell_type": "markdown",
      "source": "So I hope this three-level stacking guide is useful to demonstrate how you can capture more information from the training data, and hopefully this can generate to better test prediction. Well I use the word \"hopefully\" here as we all know the dataset in this competition is pretty noisy.   and in truth I am not sure if stacking beyong 2 level would bring much benefit, but then we will learn from the highflyers who survive the shake up!\n\nMy personal likely strategy to approach stacking is probably:\n* go with a 2-level approach, and weight average on level 2\n* applying the same stacking routine to several different random seed. \n* weigh average the above\n\nI seriously think robust CV is the key for this competition, and always be suspicious of all things shared on kernel. Alternatively, perhaps with 1 day to go, someone will share a leak or a 0.291 script to send us into a frenzy? One can always hope...\n\nEnjoy every bit of these last days - May all the insured drivers never have to claim! :)\n"
    }
  ],
  "metadata": {
    "language_info": {
      "name": "python",
      "version": "3.6.5",
      "mimetype": "text/x-python",
      "codemirror_mode": {
        "name": "ipython",
        "version": 3
      },
      "pygments_lexer": "ipython3",
      "nbconvert_exporter": "python",
      "file_extension": ".py"
    },
    "kernelspec": {
      "display_name": "Python 3",
      "language": "python",
      "name": "python3"
    }
  },
  "nbformat": 4,
  "nbformat_minor": 1
}