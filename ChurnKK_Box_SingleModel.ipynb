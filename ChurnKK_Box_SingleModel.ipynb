{
  "cells": [
    {
      "metadata": {
        "_cell_guid": "963ca5c7-5228-4aa8-8130-57092ae963cc",
        "_uuid": "4382afc239ecc5198ca689b1af26415139ba2f5a",
        "trusted": false,
        "collapsed": true
      },
      "cell_type": "code",
      "source": "# This Python 3 environment comes with many helpful analytics libraries installed\n# It is defined by the kaggle/python docker image: https://github.com/kaggle/docker-python\n# For example, here's several helpful packages to load in \n\nimport numpy as np # linear algebra\nimport pandas as pd # data processing, CSV file I/O (e.g. pd.read_csv)\n\n# Input data files are available in the \"../input/\" directory.\n# For example, running this (by clicking run or pressing Shift+Enter) will list the files in the input directory\n\nfrom subprocess import check_output\nprint(check_output([\"ls\", \"../input\"]).decode(\"utf8\"))\n\nimport pandas as pd\nimport numpy as np\nfrom sklearn.preprocessing import StandardScaler\nfrom sklearn.metrics import roc_auc_score\n\nfrom sklearn.model_selection import train_test_split\nfrom sklearn.ensemble import RandomForestClassifier\nfrom sklearn.linear_model import LogisticRegression\nfrom sklearn.neighbors import KNeighborsClassifier\nimport time\n\n# Any results you write to the current directory are saved as output.",
      "execution_count": null,
      "outputs": []
    },
    {
      "metadata": {
        "_cell_guid": "8930c4b0-5fb2-4643-84e0-861fa726d7a2",
        "_uuid": "6ea4df9e02f65dd27e1a521cc9276070745c942f",
        "trusted": false,
        "collapsed": true
      },
      "cell_type": "code",
      "source": "train = pd.read_csv('../input/finaltrain/final_train.csv')\ntrain.head()",
      "execution_count": null,
      "outputs": []
    },
    {
      "metadata": {
        "_cell_guid": "15074f50-2a5f-4cdc-8ac5-e4b4cf0288ab",
        "_uuid": "2a4e86fe0f80e15a786ce216b694f13f4e002b99",
        "trusted": false,
        "collapsed": true
      },
      "cell_type": "code",
      "source": "test = pd.read_csv('../input/final-test/final_test.csv')\ntest.head()",
      "execution_count": null,
      "outputs": []
    },
    {
      "metadata": {
        "collapsed": true,
        "_cell_guid": "2017f910-4c23-4796-b77e-5704c54c0c1c",
        "_uuid": "1d62012a209f5f0c368d1416e37a8bc1d24433e8",
        "trusted": false
      },
      "cell_type": "code",
      "source": "del train['Unnamed: 0']\ndel test['Unnamed: 0']",
      "execution_count": null,
      "outputs": []
    },
    {
      "metadata": {
        "collapsed": true,
        "_cell_guid": "6f032fc5-bcde-4ecc-8825-ad443357d3d4",
        "_uuid": "b3d3d2bda0e36066f1c2e1a350776510e9615011",
        "trusted": false
      },
      "cell_type": "code",
      "source": "#train_s = train.sample(n=1000000)",
      "execution_count": null,
      "outputs": []
    },
    {
      "metadata": {
        "_cell_guid": "a4a06695-95fc-4423-a259-be8b5200b47a",
        "_uuid": "c55909d2adf156b05a21e2b4f0cf2220ecae4a9b"
      },
      "cell_type": "markdown",
      "source": "train_s.apply(lambda x: sum(x.isnull()),axis=0)"
    },
    {
      "metadata": {
        "collapsed": true,
        "_cell_guid": "01877b39-064e-4088-9e02-bbe5cda04313",
        "_uuid": "b526e321be0a311964e8884252a8ab1fe42a4aae"
      },
      "cell_type": "markdown",
      "source": "train_s.is_churn.value_counts()"
    },
    {
      "metadata": {
        "collapsed": true,
        "_cell_guid": "cf7801ab-e0ba-4ef2-a9ec-8148629c86f8",
        "_uuid": "bf1e53a5653f9d5a1efb210d0fff42a7795fe5ac"
      },
      "cell_type": "markdown",
      "source": "(76764/923236)*100"
    },
    {
      "metadata": {
        "collapsed": true,
        "_cell_guid": "87bae8e5-a783-4009-b46e-a8569626a842",
        "_uuid": "bc33360581cc82f1cad73a7e3f5b073b0dcb65d6"
      },
      "cell_type": "markdown",
      "source": "test.apply(lambda x: sum(x.isnull()),axis=0)"
    },
    {
      "metadata": {
        "collapsed": true,
        "_cell_guid": "65204906-4ba4-47f6-b77b-ced5a63f6391",
        "_uuid": "ea6bd19bded5cbea6bcae8b6d1620f4d08c11c7e"
      },
      "cell_type": "markdown",
      "source": "train_s.columns"
    },
    {
      "metadata": {
        "collapsed": true,
        "_cell_guid": "93205a35-e84c-432b-bf63-d7823ba52781",
        "_uuid": "c1b75c4b3ba9d39d4caae4c57f2b2251e8c41c39",
        "trusted": false
      },
      "cell_type": "code",
      "source": "",
      "execution_count": null,
      "outputs": []
    },
    {
      "metadata": {
        "collapsed": true,
        "_cell_guid": "d9646d22-cb39-4299-ae25-27489087f25b",
        "_uuid": "d07e7753dfb69f2de117dfa5a9231d43b650eafc",
        "trusted": false
      },
      "cell_type": "code",
      "source": "",
      "execution_count": null,
      "outputs": []
    },
    {
      "metadata": {
        "collapsed": true,
        "_cell_guid": "c0eaaa3f-8c39-4807-b95d-52ca260cf0ac",
        "_uuid": "b51a940b1aa1fa081f05f33cd984ba265d9cbe00",
        "trusted": false
      },
      "cell_type": "code",
      "source": "###### #########Porto-Logic ####",
      "execution_count": null,
      "outputs": []
    },
    {
      "metadata": {
        "_cell_guid": "e1b1cd5d-2810-49da-8abc-35472730cdd3",
        "_uuid": "ad11204c5f950a745e2268cd605c5ee778fa6dbb",
        "trusted": false,
        "collapsed": true
      },
      "cell_type": "code",
      "source": "#del test['Unnamed: 0']\ntrain.head()",
      "execution_count": null,
      "outputs": []
    },
    {
      "metadata": {
        "collapsed": true,
        "_cell_guid": "6b63f114-f141-4f81-9864-c84d77b719b3",
        "_uuid": "b3898d4eee5d00247c95d0e9a031f76226021760",
        "trusted": false
      },
      "cell_type": "code",
      "source": "test_id = test['msno'] ## for backup \nis_churn = train['is_churn']  ## for backup ##",
      "execution_count": null,
      "outputs": []
    },
    {
      "metadata": {
        "collapsed": true,
        "_cell_guid": "c938a215-9cd4-45d8-ae93-a2e566659650",
        "_uuid": "b8d4cc790f4841917c2ed4449fc7f5b7111b58af",
        "trusted": false
      },
      "cell_type": "code",
      "source": "# This function late in a list of features 'cols' from train and test dataset, \n# and performing frequency encoding. \ndef freq_encoding(cols, train_df, test_df):\n    # we are going to store our new dataset in these two resulting datasets\n    result_train_df=pd.DataFrame()\n    result_test_df=pd.DataFrame()\n    \n    # loop through each feature column to do this\n    for col in cols:\n        \n        # capture the frequency of a feature in the training set in the form of a dataframe\n        col_freq=col+'_freq'\n        freq=train_df[col].value_counts()\n        freq=pd.DataFrame(freq)\n        freq.reset_index(inplace=True)\n        freq.columns=[[col,col_freq]]\n\n        # merge ths 'freq' datafarme with the train data\n        temp_train_df=pd.merge(train_df[[col]], freq, how='left', on=col)\n        temp_train_df.drop([col], axis=1, inplace=True)\n\n        # merge this 'freq' dataframe with the test data\n        temp_test_df=pd.merge(test_df[[col]], freq, how='left', on=col)\n        temp_test_df.drop([col], axis=1, inplace=True)\n\n        # if certain levels in the test dataset is not observed in the train dataset, \n        # we assign frequency of zero to them\n        temp_test_df.fillna(0, inplace=True)\n        temp_test_df[col_freq]=temp_test_df[col_freq].astype(np.int32)\n\n        if result_train_df.shape[0]==0:\n            result_train_df=temp_train_df\n            result_test_df=temp_test_df\n        else:\n            result_train_df=pd.concat([result_train_df, temp_train_df],axis=1)\n            result_test_df=pd.concat([result_test_df, temp_test_df],axis=1)\n    \n    return result_train_df, result_test_df\n",
      "execution_count": null,
      "outputs": []
    },
    {
      "metadata": {
        "collapsed": true,
        "_cell_guid": "81e4e421-36a1-4f0a-a193-b895a0331fa6",
        "_uuid": "24707df0fb313e7a1d17dd7a50920cc26efd0f07",
        "trusted": false
      },
      "cell_type": "code",
      "source": "cat_cols=['gender','city', 'is_auto_renew','is_cancel',\n          'registered_via', 'is_discount', 'autorenew_&_not_cancel','notAutorenew_&_cancel']",
      "execution_count": null,
      "outputs": []
    },
    {
      "metadata": {
        "_cell_guid": "e0efd734-2d58-476e-b3fa-647ffa78b1c6",
        "_uuid": "e9d8ef6028198ef6693b2bbee63c5475ea9154e8",
        "trusted": false,
        "collapsed": true
      },
      "cell_type": "code",
      "source": "train.columns",
      "execution_count": null,
      "outputs": []
    },
    {
      "metadata": {
        "collapsed": true,
        "_cell_guid": "35d80257-45f4-42fd-91a3-574244f3e919",
        "_uuid": "f15b521ef10f2bd412b5d5c849c2c56a8e0cc882",
        "trusted": false
      },
      "cell_type": "code",
      "source": " #generate dataframe for frequency features for the train and test dataset\ntrain_freq, test_freq=freq_encoding(cat_cols, train, test)\n",
      "execution_count": null,
      "outputs": []
    },
    {
      "metadata": {
        "_cell_guid": "2d576986-e56f-4552-8f51-f78e02eaa9fa",
        "_uuid": "e950d2efe8fbf1485be0ce30a68577ef5e2f1e6c",
        "trusted": false,
        "collapsed": true
      },
      "cell_type": "code",
      "source": "train_freq.head()",
      "execution_count": null,
      "outputs": []
    },
    {
      "metadata": {
        "_cell_guid": "44ee27d7-b69e-4df5-924c-314952950b28",
        "_uuid": "2bf83658575764d06d3a8afdf3ed97288a37da4c",
        "trusted": false,
        "collapsed": true
      },
      "cell_type": "code",
      "source": "test_freq.head()",
      "execution_count": null,
      "outputs": []
    },
    {
      "metadata": {
        "collapsed": true,
        "_cell_guid": "8cd1e841-c77a-486e-be8a-58e9131ef04d",
        "_uuid": "ce2b06d4430384740da233e55fdc3334ba340820",
        "trusted": false
      },
      "cell_type": "code",
      "source": "# merge them into the original train and test dataset\ntrain=pd.concat([train, train_freq], axis=1)\ntest=pd.concat([test,test_freq], axis=1)",
      "execution_count": null,
      "outputs": []
    },
    {
      "metadata": {
        "_cell_guid": "db3f2b51-b392-4fe1-8710-1969d49a21b7",
        "_uuid": "6278042a34e7696872eaccfb1ede95a890d97f90",
        "trusted": false,
        "collapsed": true
      },
      "cell_type": "code",
      "source": "train.head()",
      "execution_count": null,
      "outputs": []
    },
    {
      "metadata": {
        "_cell_guid": "bc1eed37-edb4-46ad-b5cd-950b72cd0fd3",
        "_uuid": "b216486d98a08e911727e345c182405100b9e664",
        "trusted": false,
        "collapsed": true
      },
      "cell_type": "code",
      "source": "test.head()",
      "execution_count": null,
      "outputs": []
    },
    {
      "metadata": {
        "collapsed": true,
        "_cell_guid": "670c440e-1099-4731-a985-d57ea32968a1",
        "_uuid": "90985519fcc64edc00cfde1ae4689a527fa662a2",
        "trusted": false
      },
      "cell_type": "code",
      "source": "#train.to_csv('train.csv')\n#test.to_csv('test.csv')",
      "execution_count": null,
      "outputs": []
    },
    {
      "metadata": {
        "_cell_guid": "3f97de0b-855e-4eee-9519-2167a78caffb",
        "_uuid": "44c8d1829d65fa9e052edf1d66fc9ef9acf8a610",
        "trusted": false,
        "collapsed": true
      },
      "cell_type": "code",
      "source": "train[train.columns[train.columns.str.contains('is_discount')]].head(5)",
      "execution_count": null,
      "outputs": []
    },
    {
      "metadata": {
        "_cell_guid": "106b7fd0-bcd3-4967-b7a2-78d61423ffc8",
        "_uuid": "96e3b953d861c53803f3c4ddba1add9493dd8f81",
        "trusted": false,
        "collapsed": true
      },
      "cell_type": "code",
      "source": "train.shape,test.shape",
      "execution_count": null,
      "outputs": []
    },
    {
      "metadata": {
        "_cell_guid": "0ee0ac0e-b2f9-4fc1-a7f3-846c203c6ed5",
        "_uuid": "cf05d97110c39d038875972f2bbe364fb272995c",
        "trusted": false,
        "collapsed": true
      },
      "cell_type": "code",
      "source": "train.head()",
      "execution_count": null,
      "outputs": []
    },
    {
      "metadata": {
        "_cell_guid": "83bd8526-4f83-48b4-a73c-9a71135b5fea",
        "_uuid": "215805b190e75178ada842cd77e2004793870f98",
        "trusted": false,
        "collapsed": true
      },
      "cell_type": "code",
      "source": "test.head()",
      "execution_count": null,
      "outputs": []
    },
    {
      "metadata": {
        "collapsed": true,
        "_cell_guid": "d00f249e-8fb6-4812-9bc5-3524ad83cc9a",
        "_uuid": "464b9963ab95b8b5042157eeebf0ccca902e1f4b",
        "trusted": false
      },
      "cell_type": "code",
      "source": "del train['msno']\ndel test['msno']",
      "execution_count": null,
      "outputs": []
    },
    {
      "metadata": {
        "collapsed": true,
        "_cell_guid": "39058875-6977-4e27-9e92-970e1667caf6",
        "_uuid": "5f1bfc1cc53f01a9a7169451a191d5432cf80d14",
        "trusted": false
      },
      "cell_type": "code",
      "source": "cat_cols=['gender','city', 'is_auto_renew','is_cancel',\n          'registered_via', 'is_discount', 'autorenew_&_not_cancel','notAutorenew_&_cancel']",
      "execution_count": null,
      "outputs": []
    },
    {
      "metadata": {
        "collapsed": true,
        "_cell_guid": "5b0118a9-67d0-4ab9-8e6f-2c507d5d4d91",
        "_uuid": "3b0ce95ba55f3e1d0f75bbdf053a144b983a603a",
        "trusted": false
      },
      "cell_type": "code",
      "source": "tr = train.drop(cat_cols,axis=1)",
      "execution_count": null,
      "outputs": []
    },
    {
      "metadata": {
        "collapsed": true,
        "_cell_guid": "0f90a379-872d-4b06-89f6-d87b316910f9",
        "_uuid": "727ade7b3b3f4ef93b2398f95a89248c48931c86",
        "trusted": false
      },
      "cell_type": "code",
      "source": "ts = test.drop(cat_cols,axis=1)",
      "execution_count": null,
      "outputs": []
    },
    {
      "metadata": {
        "_cell_guid": "35ab42a9-899c-4514-a383-14d8be9e3f7e",
        "_uuid": "1da93f7ec9ca1b6b294be640774212bb4d79dd73",
        "trusted": false,
        "collapsed": true
      },
      "cell_type": "code",
      "source": "tr.head()",
      "execution_count": null,
      "outputs": []
    },
    {
      "metadata": {
        "_cell_guid": "4f663e2b-55ba-4b28-bd2a-1737aa7c4491",
        "_uuid": "903e777ba384d48fa203e1f4b6f121df28565c49",
        "trusted": false,
        "collapsed": true
      },
      "cell_type": "code",
      "source": "ts.head()",
      "execution_count": null,
      "outputs": []
    },
    {
      "metadata": {
        "collapsed": true,
        "_cell_guid": "aa3c24b5-302f-44fc-a13d-bb964c706283",
        "_uuid": "31817f70470a64502d36c2ced892373be722f128",
        "trusted": false
      },
      "cell_type": "code",
      "source": "del ts['is_churn']\nis_churn_tr = tr['is_churn']\ndel tr['is_churn']",
      "execution_count": null,
      "outputs": []
    },
    {
      "metadata": {
        "_cell_guid": "51caf25a-c6b6-4030-ac52-0af90ae7f746",
        "_uuid": "f9340b3190d191952c41e98438d371ca913ad147",
        "trusted": false,
        "collapsed": true
      },
      "cell_type": "code",
      "source": "tr.head()",
      "execution_count": null,
      "outputs": []
    },
    {
      "metadata": {
        "_cell_guid": "1631540c-dab5-4558-9107-2c1d0d63944a",
        "_uuid": "d61a81f907613455f98f40bc2dc7551dfd67c228",
        "trusted": false,
        "collapsed": true
      },
      "cell_type": "code",
      "source": "ts.head()",
      "execution_count": null,
      "outputs": []
    },
    {
      "metadata": {
        "collapsed": true,
        "_cell_guid": "40dd8a84-8b84-4f2b-ac08-36485ce9cae9",
        "_uuid": "675b22cd6c10f7446c8006fde8bf81359cd1ba7a",
        "trusted": false
      },
      "cell_type": "code",
      "source": "from sklearn.preprocessing import LabelEncoder ### currently not using ##\nvar_mod = [ 'registered_via_freq', 'gender_freq','payment_method_id', 'is_auto_renew_freq', 'is_cancel_freq',\n          'is_discount_freq', 'autorenew_&_not_cancel_freq','notAutorenew_&_cancel_freq','city_freq','bd','registration_init_time',\n          'amt_per_day','date','num_25', 'num_50','num_75', 'num_985','num_100', 'num_unq', 'total_secs']\nle = LabelEncoder()\nfor i in var_mod:\n    tr[i] = le.fit_transform(tr[i])",
      "execution_count": null,
      "outputs": []
    },
    {
      "metadata": {
        "collapsed": true,
        "_cell_guid": "ff0d0b2c-9e59-4069-9eb2-86dbd4480ec6",
        "_uuid": "fdc097e663e359e42108620ff541a4d50c3b32ae",
        "trusted": false
      },
      "cell_type": "code",
      "source": "for i in var_mod: ## Currently not using  ###\n    ts[i] = le.fit_transform(ts[i])",
      "execution_count": null,
      "outputs": []
    },
    {
      "metadata": {
        "_cell_guid": "403c4374-cfdc-4872-985d-bce64c65fd5b",
        "_uuid": "f8c5d4a85b7840df35cc75555a248b92c5072e04",
        "trusted": false,
        "collapsed": true
      },
      "cell_type": "code",
      "source": "tr.dtypes",
      "execution_count": null,
      "outputs": []
    },
    {
      "metadata": {
        "_cell_guid": "016f05e5-b2f9-41f8-92e2-3d8677bb5d73",
        "_uuid": "8e2db5604daac23617bc22cb97f6414eec1f2c1b",
        "trusted": false,
        "collapsed": true
      },
      "cell_type": "code",
      "source": "ts.dtypes",
      "execution_count": null,
      "outputs": []
    },
    {
      "metadata": {
        "collapsed": true,
        "_cell_guid": "6befcdfc-ffb0-4364-86a8-c7ce85fb5640",
        "_uuid": "a038cbe4949f13689e0860f25371f47dc375ac9b",
        "trusted": false
      },
      "cell_type": "code",
      "source": "tr['is_churn'] = is_churn_tr ## tagged back to is churn label ",
      "execution_count": null,
      "outputs": []
    },
    {
      "metadata": {
        "collapsed": true,
        "_cell_guid": "69ba1fcd-795e-4a4e-ab6a-21323822512c",
        "_uuid": "fbafd6c059f17620600ce01ae8fa810e103ed26b",
        "trusted": false
      },
      "cell_type": "code",
      "source": "from sklearn.model_selection import train_test_split",
      "execution_count": null,
      "outputs": []
    },
    {
      "metadata": {
        "collapsed": true,
        "_cell_guid": "ae1b5cf0-a301-4798-af79-3ef88e71a848",
        "_uuid": "8f4512e1836cf089b9e5fa7b9c8493fc2740a889",
        "trusted": false
      },
      "cell_type": "code",
      "source": "localtrain, localval=train_test_split(tr, test_size=0.25, random_state=2017)\ny_localtrain=localtrain['is_churn']\nx_localtrain=localtrain.drop(['is_churn'], axis=1)\n\ny_localval=localval['is_churn']\nx_localval=localval.drop('is_churn', axis=1)",
      "execution_count": null,
      "outputs": []
    },
    {
      "metadata": {
        "_cell_guid": "aa3ec873-eb8e-4740-828b-2f0e77b07a92",
        "_uuid": "ad427f01909c767e362d180909909967fa7a843a",
        "trusted": false,
        "collapsed": true
      },
      "cell_type": "code",
      "source": "x_localtrain.shape,x_localval.shape,y_localtrain.shape,y_localval.shape",
      "execution_count": null,
      "outputs": []
    },
    {
      "metadata": {
        "collapsed": true,
        "_cell_guid": "969eff24-5bc6-4b8a-bb88-04d85c6526f0",
        "_uuid": "7442ffae05ffc68f39ed1b8b6fdd1ca11f725310",
        "trusted": false
      },
      "cell_type": "code",
      "source": "import time \nfrom sklearn.ensemble import RandomForestClassifier",
      "execution_count": null,
      "outputs": []
    },
    {
      "metadata": {
        "_cell_guid": "1cf60784-9f40-44db-80d2-a28eeed8d6b7",
        "_uuid": "db7cb1f68288c4f1e0a59d91b03b3b78596cd6b5"
      },
      "cell_type": "markdown",
      "source": "print('Start training...')\nstart_time=time.time()\n\nrf=RandomForestClassifier(n_estimators=150, n_jobs=6, min_samples_split=5, max_depth=7,\n                          criterion='gini', random_state=0)\n\nrf.fit(x_localtrain, y_localtrain)\nrf_valprediction=rf.predict_proba(x_localval)[:,1]\n\nend_time = time.time()\nprint(\"it takes %.3f seconds to train and predict\" % (end_time - start_time))"
    },
    {
      "metadata": {
        "collapsed": true,
        "_cell_guid": "513305c0-e37f-4bc3-a227-6d9892200929",
        "_uuid": "f30c124b4ab9a3479e69ac6cfc1a9cfa690c6620",
        "trusted": false
      },
      "cell_type": "code",
      "source": "from sklearn.metrics import roc_auc_score",
      "execution_count": null,
      "outputs": []
    },
    {
      "metadata": {
        "_cell_guid": "4c3a540e-9eb2-4629-8a58-77a1791a99ca",
        "_uuid": "58035dc4fac431f73ee2d304224568175f808393"
      },
      "cell_type": "markdown",
      "source": "rf_val_auc=roc_auc_score(y_localval, rf_valprediction)\nrf_val_gininorm=2*rf_val_auc-1\n\nprint('Random Forest Validation AUC is {:.6f}'.format(rf_val_auc))\nprint('Random Forest Validation Normalised Gini Coefficient is {:.6f}'.format(rf_val_gininorm))"
    },
    {
      "metadata": {
        "collapsed": true,
        "_cell_guid": "56a339a2-322a-4857-a3a3-2ce211c397c6",
        "_uuid": "1b1a14ec1aa1ea998bd7be01aa11ee15e829f06b",
        "trusted": false
      },
      "cell_type": "code",
      "source": "x_test=ts",
      "execution_count": null,
      "outputs": []
    },
    {
      "metadata": {
        "_cell_guid": "e614c731-1eb4-4242-b029-dc684467ad65",
        "_uuid": "9b3c56fc9ed0ac19219cee0aa8c94cbc16e888d0",
        "trusted": false,
        "collapsed": true
      },
      "cell_type": "code",
      "source": "scaler = StandardScaler().fit(x_localtrain.values)\nx_localtrain_scaled = scaler.transform(x_localtrain)\nx_localval_scaled = scaler.transform(x_localval)\nx_test_scaled = scaler.transform(x_test)\n\nprint('Start training...')\nstart_time=time.time()\n\nlogit=LogisticRegression()\nlogit.fit(x_localtrain_scaled, y_localtrain)\nlogit_valprediction=logit.predict_proba(x_localval_scaled)[:,1]\n\nend_time = time.time()\nprint(\"it takes %.3f seconds to train and predict\" % (end_time - start_time))",
      "execution_count": null,
      "outputs": []
    },
    {
      "metadata": {
        "_cell_guid": "5c7d6f16-d67f-4410-b39f-af8b3ede06cf",
        "_uuid": "70870bc377b39fb8db2a7cb43669e18bce5fc8ad",
        "trusted": false,
        "collapsed": true
      },
      "cell_type": "code",
      "source": "logit_val_auc=roc_auc_score(y_localval, logit_valprediction)\nlogit_val_gininorm=2*logit_val_auc-1\n\nprint('Logistic Regression Validation AUC is {:.6f}'.format(logit_val_auc))\nprint('Logistic Regression Validation Normalised Gini Coefficient is {:.6f}'.format(logit_val_gininorm))",
      "execution_count": null,
      "outputs": []
    },
    {
      "metadata": {
        "collapsed": true,
        "_cell_guid": "5fecc3db-3cf7-44a3-9071-ceed5ddc4392",
        "_uuid": "fa4084c3cfda18f72e0cf310a454e9583a26a29d",
        "trusted": false
      },
      "cell_type": "code",
      "source": "y_testprediction=logit.predict_proba(x_test_scaled)[:,1]\n",
      "execution_count": null,
      "outputs": []
    },
    {
      "metadata": {
        "_cell_guid": "cbe77c18-ec01-4708-8841-8ec589c14b5a",
        "_uuid": "f1f1ec97d5f9ecf5a7c4707d4e7962cefba4ddbc",
        "trusted": false,
        "collapsed": true
      },
      "cell_type": "code",
      "source": "y_testprediction",
      "execution_count": null,
      "outputs": []
    },
    {
      "metadata": {
        "collapsed": true,
        "_cell_guid": "ed3aae46-cea6-41c1-bffc-9044bbf2d262",
        "_uuid": "d9e28f7380d4a329510f9b101c3089cf66b0d6fa",
        "trusted": false
      },
      "cell_type": "code",
      "source": "\n#y_testprediction=rf.predict_proba(x_test)[:,1]\n\n\n#rf_submission.to_csv('rf_submission.csv', compression='gzip', index=False)",
      "execution_count": null,
      "outputs": []
    },
    {
      "metadata": {
        "collapsed": true,
        "_cell_guid": "15179323-0a9e-4feb-a344-5b03f0929573",
        "_uuid": "4daa94a0df33caa663edd857097adc00e0141cc8",
        "trusted": false
      },
      "cell_type": "code",
      "source": "log_portu = pd.DataFrame({ 'msno': test_id,\n                            'is_churn': y_testprediction })\nlog_portu.to_csv(\"logistic_portu_logic.csv\", index=False)",
      "execution_count": null,
      "outputs": []
    },
    {
      "metadata": {
        "collapsed": true,
        "_cell_guid": "1c9ee933-c939-44a0-b12e-fec0cf2da7d7",
        "_uuid": "783755ac6227d192e8eca3a7780429d4f92f43e6",
        "trusted": false
      },
      "cell_type": "code",
      "source": "",
      "execution_count": null,
      "outputs": []
    },
    {
      "metadata": {
        "collapsed": true,
        "_cell_guid": "c6fdf244-3e9b-4a58-bf82-3368c58d889a",
        "_uuid": "66a92a74f16ca59440b02cb40ce5318ae22a7b83",
        "trusted": false
      },
      "cell_type": "code",
      "source": "",
      "execution_count": null,
      "outputs": []
    },
    {
      "metadata": {
        "collapsed": true,
        "_cell_guid": "336ba2b9-dd4a-4781-97ba-d83c4cad4371",
        "_uuid": "f5286473d0d6433d1ffc60f0d9619168a6cf7a2c",
        "trusted": false
      },
      "cell_type": "code",
      "source": "",
      "execution_count": null,
      "outputs": []
    },
    {
      "metadata": {
        "collapsed": true,
        "_cell_guid": "ab009d03-2a2b-4248-90eb-1379e7d6f986",
        "_uuid": "c1fb614f737ad7a96bd864606fa13beab0dcc2ca"
      },
      "cell_type": "markdown",
      "source": "plt.rcParams['figure.figsize'] = (10, 10)"
    },
    {
      "metadata": {
        "collapsed": true,
        "_cell_guid": "9306a548-ce45-4865-b96a-cc734dbba193",
        "_uuid": "a683fdf16b324f2ab4971ece65401ce30694d1eb"
      },
      "cell_type": "markdown",
      "source": "# remove constant columns\ncolsToRemove = []\nfor col in train_s.columns:\n    if train_s[col].std() == 0:\n        colsToRemove.append(col)"
    },
    {
      "metadata": {
        "collapsed": true,
        "_cell_guid": "6249ad4a-ea6f-4b4c-8fed-6b620e97e5d7",
        "_uuid": "a8f8891d613d729911d1c29571a172f6401d8e00"
      },
      "cell_type": "markdown",
      "source": "train_s.head()"
    },
    {
      "metadata": {
        "_cell_guid": "24b733fd-3b0a-4c07-8f38-8b8022b34068",
        "_uuid": "5733325f84eb0637ecf63ed417c78b000554a70d"
      },
      "cell_type": "markdown",
      "source": "trainLabels = y\ntrainFeatures = train_s"
    },
    {
      "metadata": {
        "collapsed": true,
        "_cell_guid": "04b9f765-4746-48bb-8247-925ffe48d638",
        "_uuid": "55d9d7af5b531823f14b723e048243faac03851d",
        "trusted": false
      },
      "cell_type": "code",
      "source": "",
      "execution_count": null,
      "outputs": []
    },
    {
      "metadata": {
        "collapsed": true,
        "_cell_guid": "2d46248d-2899-433c-be7d-3f21fa33b52b",
        "_uuid": "7e105ce45ebcd91d836be66f398e37c4effa0fdc",
        "trusted": false
      },
      "cell_type": "code",
      "source": "",
      "execution_count": null,
      "outputs": []
    },
    {
      "metadata": {
        "collapsed": true,
        "_cell_guid": "8ac80589-a14f-4210-a707-6dfb0b4a8f85",
        "_uuid": "bc707fbadda99f23e72656a08cea7e04c690932a",
        "trusted": false
      },
      "cell_type": "code",
      "source": "",
      "execution_count": null,
      "outputs": []
    },
    {
      "metadata": {
        "collapsed": true,
        "_cell_guid": "5bf2a89e-a748-4ceb-ad2a-b9962b0e721f",
        "_uuid": "365a41cbf3531fe2c9ef1d3f479ef30e458c88f3",
        "trusted": false
      },
      "cell_type": "code",
      "source": "",
      "execution_count": null,
      "outputs": []
    },
    {
      "metadata": {
        "collapsed": true,
        "_cell_guid": "3674d33c-c5e8-45b3-89f0-ed77eac16635",
        "_uuid": "86005cc716b48e845b088fbcf3e57a0ab8235b6a",
        "trusted": false
      },
      "cell_type": "code",
      "source": "\n    ",
      "execution_count": null,
      "outputs": []
    },
    {
      "metadata": {
        "collapsed": true,
        "_cell_guid": "39772c63-0cf9-457e-93b8-3c2b9e3f4d10",
        "_uuid": "da6b9450c2c1627910e6b5862c9cac90eab476ba",
        "trusted": false
      },
      "cell_type": "code",
      "source": "",
      "execution_count": null,
      "outputs": []
    },
    {
      "metadata": {
        "collapsed": true,
        "_cell_guid": "773c601d-ef9f-4bd1-8976-f7a5b7dea60a",
        "_uuid": "ed8d7b2d5db7c6af1c9d3aa53718e768040e3135",
        "trusted": false
      },
      "cell_type": "code",
      "source": "train_s.dtypes",
      "execution_count": null,
      "outputs": []
    },
    {
      "metadata": {
        "collapsed": true,
        "_cell_guid": "3b4dbe89-9b87-40be-a74a-00a6ccea8738",
        "_uuid": "ca2a68faa867d4f8eb977d87ac62948b999fa557"
      },
      "cell_type": "markdown",
      "source": "test_id = test['msno']\ndel test['msno']\ndel train_s['msno']\ndel train_s['date']\ndel test['date']\ndel test['is_churn']"
    },
    {
      "metadata": {
        "_cell_guid": "8d4ab50c-8552-447c-9904-0abb4996d76d",
        "_uuid": "4d12247d8ba7364de256cfdebbc594a30ee69cc2"
      },
      "cell_type": "markdown",
      "source": "# Load in our libraries\nimport pandas as pd\nimport numpy as np\nimport re\nimport sklearn\nimport xgboost as xgb\nimport seaborn as sns\nimport matplotlib.pyplot as plt\n%matplotlib inline\n\nimport plotly.offline as py\npy.init_notebook_mode(connected=True)\nimport plotly.graph_objs as go\nimport plotly.tools as tls\n\nimport warnings\nwarnings.filterwarnings('ignore')\n\n# Going to use these 5 base models for the stacking\nfrom sklearn.ensemble import RandomForestClassifier, AdaBoostClassifier, GradientBoostingClassifier, ExtraTreesClassifier\nfrom sklearn.svm import SVC\nfrom sklearn.cross_validation import KFold;\n"
    },
    {
      "metadata": {
        "_cell_guid": "04b45475-2087-4f23-a90c-c738c42a77ca",
        "_uuid": "39bcc42421de3e2c91c8ba281cd5d37bbebd6f0c"
      },
      "cell_type": "markdown",
      "source": "colormap = plt.cm.RdBu\nplt.figure(figsize=(25,25))\nplt.title('Pearson Correlation of Features', y=1.05, size=15)\nsns.heatmap(train_s.astype(float).corr(),linewidths=0.1,vmax=1.0, \n            square=True, cmap=colormap, linecolor='white', annot=True)"
    },
    {
      "metadata": {
        "_cell_guid": "2c7858a2-14b0-4c7c-8aea-f8c5eb41d93d",
        "_uuid": "e37a28c67d33ad87fcc52c571f5b258665b47d7f"
      },
      "cell_type": "markdown",
      "source": "train_s.astype(float).corr()"
    },
    {
      "metadata": {
        "collapsed": true,
        "_cell_guid": "b6e5cc5c-494a-4cf1-9788-702da7996256",
        "_uuid": "d92daa4e2c3f54c950707669dc2f9d7eb6175e05"
      },
      "cell_type": "markdown",
      "source": "train_2 = train_s[['autorenew_&_not_cancel', 'is_discount','plan_list_price','total_secs']]\ntest_2 =  test[['autorenew_&_not_cancel', 'is_discount','plan_list_price','total_secs']]"
    },
    {
      "metadata": {
        "_cell_guid": "afb3340f-380d-4664-bb97-cc196afd9e16",
        "_uuid": "2e1e7354058bcf29aac08a5ebe8ff281012679d1"
      },
      "cell_type": "markdown",
      "source": "train_2.shape,test_2.shape"
    },
    {
      "metadata": {
        "_cell_guid": "3b35dc0b-5cbf-449a-b024-6b54ccfd7ed7",
        "_uuid": "0e1bda7ef958258ace79163c430937368997a134"
      },
      "cell_type": "markdown",
      "source": "train_2.head()"
    },
    {
      "metadata": {
        "collapsed": true,
        "_cell_guid": "a6ef88b7-03af-4d0d-bd72-bfdbfbc0fd65",
        "_uuid": "e702129c6a9d176089c889db606a898232e4f0ab"
      },
      "cell_type": "markdown",
      "source": "# Put in our parameters for said classifiers\n# Random Forest parameters\nrf_params = {\n    'n_jobs': -1,\n    'n_estimators': 50,\n     'warm_start': True, \n     #'max_features': 0.2,\n    #'class_weights' = {0:0.2,1:0.8}\n    'max_depth': 6,\n    'min_samples_leaf': 2,\n    'max_features' : 'sqrt',\n    'verbose': 0\n}\n\n# Extra Trees Parameters\net_params = {\n    'n_jobs': -1,\n    'n_estimators':100,\n    #'max_features': 0.5,\n    'max_depth': 8,\n    'min_samples_leaf': 2,\n    'verbose': 0\n}\n\n# AdaBoost parameters\nada_params = {\n    'n_estimators': 50,\n    'learning_rate' : 0.75\n}\n\n# Gradient Boosting parameters\ngb_params = {\n    'n_estimators': 50,\n     #'max_features': 0.2,\n    'max_depth': 5,\n    'min_samples_leaf': 2,\n    'verbose': 0\n}"
    },
    {
      "metadata": {
        "collapsed": true,
        "_cell_guid": "9f08c762-d791-49c1-942c-86b1f376a111",
        "_uuid": "42b8bdc3f769c1362ed237b9306bae0033c9722b"
      },
      "cell_type": "markdown",
      "source": "# Create 5 objects that represent our 4 models\nrf = SklearnHelper(clf=RandomForestClassifier, seed=SEED, params=rf_params)\net = SklearnHelper(clf=ExtraTreesClassifier, seed=SEED, params=et_params)\nada = SklearnHelper(clf=AdaBoostClassifier, seed=SEED, params=ada_params)\ngb = SklearnHelper(clf=GradientBoostingClassifier, seed=SEED, params=gb_params)"
    },
    {
      "metadata": {
        "collapsed": true,
        "_cell_guid": "26ed7007-281e-436e-8211-6c8ce4d553e6",
        "_uuid": "07d72ffd5a453133ffad5259d1f4d7715fab6045"
      },
      "cell_type": "markdown",
      "source": "# Create Numpy arrays of train, test and target ( Survived) dataframes to feed into our models\ny_train = train_s['is_churn'].ravel()\n#train_s = train_s.drop(['is_churn'], axis=1)\nx_train = train_2.values # Creates an array of the train data\nx_test = test_2.values # Creats an array of the test data"
    },
    {
      "metadata": {
        "_cell_guid": "dbebce8b-2fcd-45c1-8b29-ce7f788fa7b7",
        "_uuid": "fcf3e0f47fe4ea71b7480d4d0846fd93cb7bc162"
      },
      "cell_type": "markdown",
      "source": "x_train.shape,x_test.shape,y_train.shape"
    },
    {
      "metadata": {
        "collapsed": true,
        "_cell_guid": "901cd39b-8fab-49d9-9e58-6117ed1670f0",
        "_uuid": "95f099f88da7ce68118e27e8ee867fd3ce43d773"
      },
      "cell_type": "markdown",
      "source": "et_oof_train, et_oof_test = get_oof(et, x_train, y_train, x_test) # Extra Trees\nrf_oof_train, rf_oof_test = get_oof(rf,x_train, y_train, x_test) # Random Forest\nada_oof_train, ada_oof_test = get_oof(ada, x_train, y_train, x_test) # AdaBoost \ngb_oof_train, gb_oof_test = get_oof(gb,x_train, y_train, x_test) # Gradient Boost"
    },
    {
      "metadata": {
        "_cell_guid": "43c186fa-3f80-4837-9077-690254fc707d",
        "_uuid": "0a778066e71e470066aa4502439361f94819b410"
      },
      "cell_type": "markdown",
      "source": "rf_feature = rf.feature_importances(x_train,y_train)\net_feature = et.feature_importances(x_train, y_train)\nada_feature = ada.feature_importances(x_train, y_train)"
    },
    {
      "metadata": {
        "collapsed": true,
        "_cell_guid": "f389530c-d85d-4cdc-986f-214fd35f483e",
        "_uuid": "8c9e412e9aecd2e55283a52a41e5f1d74c5057ce"
      },
      "cell_type": "markdown",
      "source": "gb_feature = gb.feature_importances(x_train,y_train)"
    },
    {
      "metadata": {
        "collapsed": true,
        "_cell_guid": "cb74eece-fffe-4521-94f2-daaac259c19f",
        "_uuid": "f8ab000d6368fe0da19034ca90b8a3101a501078"
      },
      "cell_type": "markdown",
      "source": "x_train = np.concatenate(( et_oof_train, rf_oof_train, ada_oof_train,gb_oof_train), axis=1)\nx_test = np.concatenate(( et_oof_test, rf_oof_test, ada_oof_test,gb_oof_test), axis=1)"
    },
    {
      "metadata": {
        "collapsed": true,
        "_cell_guid": "50d05ae5-4f7e-47d8-ae83-f0a2b24fec62",
        "_uuid": "ce666377465077a300c9519f04b70fa23af6fb2a"
      },
      "cell_type": "markdown",
      "source": "from sklearn.linear_model import LogisticRegression\nmodel = LogisticRegression(class_weight={0:0.2, 1:0.7})\nmodel = model.fit(x_train,y_train)\n\n# check the accuracy on the training set\n#model.score(X, y)"
    },
    {
      "metadata": {
        "_cell_guid": "73ce8628-e976-4e31-8b8e-48053e96b11f",
        "_uuid": "ad0c3061c809e301ec33b8e29ddd1cc7f12c2db5"
      },
      "cell_type": "markdown",
      "source": "prediction = model.predict_proba(x_test)[:,1]\nprediction"
    },
    {
      "metadata": {
        "collapsed": true,
        "_cell_guid": "8dd92668-6316-485c-9fa6-9f428229954e",
        "_uuid": "ed58de9da41c13fa03e962610d1aad847010bb38"
      },
      "cell_type": "markdown",
      "source": "StackingSubmission3 = pd.DataFrame({ 'msno': test_id,\n                            'is_churn': prediction })\nStackingSubmission3.to_csv(\"StackingSubmission3.csv\", index=False)"
    },
    {
      "metadata": {
        "_cell_guid": "427caffb-fc1c-4571-80b2-b678b6fcd844",
        "_uuid": "e9584760b0ac94de4e6071c9e8520d0f8c8c1fa2"
      },
      "cell_type": "markdown",
      "source": "sns.distplot(StackingSubmission3.is_churn)"
    },
    {
      "metadata": {
        "_cell_guid": "7df82ed7-e770-40e4-866c-a947be3a48cb",
        "_uuid": "cfbd63f918ddce69f47da96995c23a0a07e8415e"
      },
      "cell_type": "markdown",
      "source": "model = LogisticRegression(class_weight={0:0.1, 1:0.8})\nmodel = model.fit(x_train,y_train)"
    },
    {
      "metadata": {
        "_cell_guid": "26f9857d-e826-4f13-8b89-fae26876e69a",
        "_uuid": "64cfd12310bbb71ec9179b7385b62009c670afbd"
      },
      "cell_type": "markdown",
      "source": "prediction1 = model.predict_proba(x_test)[:,1]\nprediction1"
    },
    {
      "metadata": {
        "_cell_guid": "a74a47f3-312d-4110-9a03-dab808e42282",
        "_uuid": "74a0c278cea6db810a8aea57d7b7ac0876cfc522"
      },
      "cell_type": "markdown",
      "source": "StackingSubmission4 = pd.DataFrame({ 'msno': test_id,\n                            'is_churn': prediction1 })\nStackingSubmission4.to_csv(\"StackingSubmission4.csv\", index=False)"
    },
    {
      "metadata": {
        "_cell_guid": "65487de5-2f20-40a8-96ac-78f4bcb8b4d3",
        "_uuid": "546cd0bf8f3f6d339969685498eff32fed366969"
      },
      "cell_type": "markdown",
      "source": "sns.distplot(StackingSubmission4.is_churn)"
    },
    {
      "metadata": {
        "collapsed": true,
        "_cell_guid": "725011e4-47a2-441e-96f4-35c9a5c59e19",
        "_uuid": "38fba9bb46ebe988ed8506e4ddfea0aa4a5ddd2c",
        "trusted": false
      },
      "cell_type": "code",
      "source": "",
      "execution_count": null,
      "outputs": []
    }
  ],
  "metadata": {
    "kernelspec": {
      "display_name": "Python 3",
      "language": "python",
      "name": "python3"
    },
    "language_info": {
      "name": "python",
      "version": "3.6.3",
      "mimetype": "text/x-python",
      "codemirror_mode": {
        "name": "ipython",
        "version": 3
      },
      "pygments_lexer": "ipython3",
      "nbconvert_exporter": "python",
      "file_extension": ".py"
    }
  },
  "nbformat": 4,
  "nbformat_minor": 1
}